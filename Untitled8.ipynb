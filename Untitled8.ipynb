{
  "nbformat": 4,
  "nbformat_minor": 0,
  "metadata": {
    "colab": {
      "name": "Untitled8.ipynb",
      "version": "0.3.2",
      "provenance": [],
      "include_colab_link": true
    },
    "kernelspec": {
      "name": "python3",
      "display_name": "Python 3"
    }
  },
  "cells": [
    {
      "cell_type": "markdown",
      "metadata": {
        "id": "view-in-github",
        "colab_type": "text"
      },
      "source": [
        "[View in Colaboratory](https://colab.research.google.com/github/joocheolkim/QRM/blob/master/Untitled8.ipynb)"
      ]
    },
    {
      "metadata": {
        "id": "pTsagf06qpme",
        "colab_type": "code",
        "colab": {
          "base_uri": "https://localhost:8080/",
          "height": 136
        },
        "outputId": "86259af0-9635-4776-80d2-16d71b92ecfb"
      },
      "cell_type": "code",
      "source": [
        "print(\"Hello World!\")\n",
        "print(\"Hello Again\")\n",
        "print(\"I like typing this.\")\n",
        "print(\"This is fun.\")\n",
        "print('Yay! Printing.')\n",
        "print(\"I'd much rather you 'not'.\")\n",
        "print('I \"said\" do not touch this.')"
      ],
      "execution_count": 1,
      "outputs": [
        {
          "output_type": "stream",
          "text": [
            "Hello World!\n",
            "Hello Again\n",
            "I like typing this.\n",
            "This is fun.\n",
            "Yay! Printing.\n",
            "I'd much rather you 'not'.\n",
            "I \"said\" do not touch this.\n"
          ],
          "name": "stdout"
        }
      ]
    },
    {
      "metadata": {
        "id": "VZYv-B4Qq6el",
        "colab_type": "code",
        "colab": {
          "base_uri": "https://localhost:8080/",
          "height": 51
        },
        "outputId": "ee398188-4da8-47b2-fee7-0afbbfeccea7"
      },
      "cell_type": "code",
      "source": [
        "# A comment, this is so you can read your program later.\n",
        "# Anything after the # is ignored by python.\n",
        "\n",
        "print(\"I could have code like this.\") # and the comment after is ignored \n",
        "\n",
        "# You can also use a comment to \"disable\" or comment out code:\n",
        "# print(\"This won't run.\")\n",
        "\n",
        "print(\"This will run.\")"
      ],
      "execution_count": 2,
      "outputs": [
        {
          "output_type": "stream",
          "text": [
            "I could have code like this.\n",
            "This will run.\n"
          ],
          "name": "stdout"
        }
      ]
    },
    {
      "metadata": {
        "id": "Ly2WrofCrZ7y",
        "colab_type": "code",
        "colab": {}
      },
      "cell_type": "code",
      "source": [
        "1 print(\"I will now count my chickens:\") \n",
        "2\n",
        "3 print(\"Hens\", 25 + 30 / 6)\n",
        "4 print(\"Roosters\", 100 - 25 * 3 % 4)\n",
        "5\n",
        "6 print(\"Now I will count the eggs:\")\n",
        "7\n",
        "8 print(3+2+1-5+4%2-1/4+6) \n",
        "9\n",
        "10 print(\"Isittruethat3+2<5-7?\") \n",
        "11\n",
        "12 print(3+2<5-7)\n",
        "\n",
        "14 print(\"What is 3 + 2?\", 3 + 2)\n",
        "15 print(\"What is 5 - 7?\", 5 - 7)\n",
        "16\n",
        "17 print(\"Oh, that's why it's False.\") 18\n",
        "19 print(\"How about some more.\")\n",
        "20\n",
        "21 print(\"Is it greater?\", 5 > -2)\n",
        "22 print(\"Is it greater or equal?\", 5 >= -2)\n",
        "23 print(\"Is it less or equal?\", 5 <= -2)"
      ],
      "execution_count": 0,
      "outputs": []
    }
  ]
}